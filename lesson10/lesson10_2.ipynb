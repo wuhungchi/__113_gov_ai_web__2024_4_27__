{
 "cells": [
  {
   "cell_type": "code",
   "execution_count": null,
   "metadata": {},
   "outputs": [],
   "source": [
    "from pydantic import BaseModel\n",
    "class Person(BaseModel):\n",
    "    first_name :str\n",
    "    last_name:str\n",
    "    age:int\n",
    "p1 = Person(first_name='a',last_name='b',age=23)\n",
    "print(p1.first_name)\n",
    "print(p1.last_name)\n",
    "print(p1.age)\n",
    "print(p1)\n",
    "    "
   ]
  },
  {
   "cell_type": "code",
   "execution_count": 9,
   "metadata": {},
   "outputs": [
    {
     "data": {
      "text/plain": [
       "Person(first_name='a', last_name='b', age=23)"
      ]
     },
     "execution_count": 9,
     "metadata": {},
     "output_type": "execute_result"
    }
   ],
   "source": [
    "data: dict = {\n",
    "    \"first_name\":\"a\",\n",
    "    \"last_name\":\"b\",\n",
    "    \"age\":23,\n",
    "}\n",
    "p4 = Person.model_validate(data)\n",
    "p4"
   ]
  },
  {
   "cell_type": "code",
   "execution_count": 12,
   "metadata": {},
   "outputs": [
    {
     "data": {
      "text/plain": [
       "Person(first_name='a', last_name='b', age=23)"
      ]
     },
     "execution_count": 12,
     "metadata": {},
     "output_type": "execute_result"
    }
   ],
   "source": [
    "data_json :str = ''' \n",
    "{\n",
    "    \"first_name\":\"a\",\n",
    "    \"last_name\":\"b\",\n",
    "    \"age\":\"23\"\n",
    "}\n",
    "'''\n",
    "p5 = Person.model_validate_json(data_json)\n",
    "p5\n",
    "#json檔可以用'''{}'''來直接控制class中原本必須使用的init\n"
   ]
  },
  {
   "cell_type": "code",
   "execution_count": 13,
   "metadata": {},
   "outputs": [
    {
     "data": {
      "text/plain": [
       "Person(first_name='John', last_name=None, age=18)"
      ]
     },
     "execution_count": 13,
     "metadata": {},
     "output_type": "execute_result"
    }
   ],
   "source": [
    "class Person(BaseModel):\n",
    "    first_name:str #require必須有的欄位\n",
    "    last_name:str | None = None #optional(加了None=None就可有可無)\n",
    "    age:int = 18 #optional(預設成18->下方無輸入也會自動輸出18)\n",
    "\n",
    "data_json:str = '''\n",
    "{\n",
    "    \"first_name\": \"John\"   \n",
    "}\n",
    "'''\n",
    "\n",
    "p6 = Person.model_validate_json(data_json)\n",
    "p6"
   ]
  },
  {
   "cell_type": "code",
   "execution_count": null,
   "metadata": {},
   "outputs": [],
   "source": [
    "from pydantic import BaseModel,Field\n",
    "data:str '''\n",
    "{\n",
    "    \"id\":100,\n",
    "    \"First Name\":\"John\",\n",
    "    \"LASTNAME\":\"Smith\",\n",
    "    \"age in years\": 42\n",
    "}\n",
    "'''\n",
    "class Person(BaseModel)\n",
    "    id_:int = Field(alias=id)\n",
    "    first_name = Field(alias=)"
   ]
  },
  {
   "cell_type": "code",
   "execution_count": 1,
   "metadata": {},
   "outputs": [
    {
     "ename": "NameError",
     "evalue": "name 'BaseModel' is not defined",
     "output_type": "error",
     "traceback": [
      "\u001b[0;31m---------------------------------------------------------------------------\u001b[0m",
      "\u001b[0;31mNameError\u001b[0m                                 Traceback (most recent call last)",
      "Cell \u001b[0;32mIn[1], line 14\u001b[0m\n\u001b[1;32m      1\u001b[0m data \u001b[38;5;241m=\u001b[39m \u001b[38;5;124m'''\u001b[39m\n\u001b[1;32m      2\u001b[0m \u001b[38;5;124m{\u001b[39m\n\u001b[1;32m      3\u001b[0m \u001b[38;5;124m    \u001b[39m\u001b[38;5;124m\"\u001b[39m\u001b[38;5;124mfirstName\u001b[39m\u001b[38;5;124m\"\u001b[39m\u001b[38;5;124m: \u001b[39m\u001b[38;5;124m\"\u001b[39m\u001b[38;5;124mArthur\u001b[39m\u001b[38;5;124m\"\u001b[39m\u001b[38;5;124m,\u001b[39m\n\u001b[0;32m   (...)\u001b[0m\n\u001b[1;32m     12\u001b[0m \u001b[38;5;124m}\u001b[39m\n\u001b[1;32m     13\u001b[0m \u001b[38;5;124m'''\u001b[39m\n\u001b[0;32m---> 14\u001b[0m \u001b[38;5;28;01mclass\u001b[39;00m \u001b[38;5;21;01mPlace\u001b[39;00m(\u001b[43mBaseModel\u001b[49m):\n\u001b[1;32m     15\u001b[0m     country :\u001b[38;5;28mstr\u001b[39m\n\u001b[1;32m     16\u001b[0m     city:\u001b[38;5;28mstr\u001b[39m\n",
      "\u001b[0;31mNameError\u001b[0m: name 'BaseModel' is not defined"
     ]
    }
   ],
   "source": [
    "data = '''\n",
    "{\n",
    "    \"firstName\": \"Arthur\",\n",
    "    \"lastName\": \"Clarke\",\n",
    "    \"born\":{\n",
    "        \"place\":{\n",
    "            \"country\":\"Lunar Colony\",\n",
    "            \"city\": \"Central City\"\n",
    "        },\n",
    "        \"date\":\"2001-01-01\"\n",
    "    }\n",
    "}\n",
    "'''\n",
    "class Place(BaseModel):\n",
    "    country :str\n",
    "    city:str\n",
    "class Born(BaseModel):\n",
    "    place:Place\n",
    "    date:str\n",
    "class Person(BaseModel):\n",
    "    first_name:str =Field(alias='firstName')\n",
    "    last_name :str=Field(alias='lastName')\n",
    "    born:Born\n",
    "\n",
    "p9 =Person.model_validate_json(data)\n",
    "print(p9)\n",
    "p9.born.place.city\n",
    "p9.born.place.country"
   ]
  }
 ],
 "metadata": {
  "kernelspec": {
   "display_name": "Python 3",
   "language": "python",
   "name": "python3"
  },
  "language_info": {
   "codemirror_mode": {
    "name": "ipython",
    "version": 3
   },
   "file_extension": ".py",
   "mimetype": "text/x-python",
   "name": "python",
   "nbconvert_exporter": "python",
   "pygments_lexer": "ipython3",
   "version": "3.10.14"
  }
 },
 "nbformat": 4,
 "nbformat_minor": 2
}
