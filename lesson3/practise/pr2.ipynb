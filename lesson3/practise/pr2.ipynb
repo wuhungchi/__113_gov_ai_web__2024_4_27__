{
 "cells": [
  {
   "cell_type": "code",
   "execution_count": 3,
   "metadata": {},
   "outputs": [
    {
     "ename": "NameError",
     "evalue": "name 'bmi' is not defined",
     "output_type": "error",
     "traceback": [
      "\u001b[0;31m---------------------------------------------------------------------------\u001b[0m",
      "\u001b[0;31mValueError\u001b[0m                                Traceback (most recent call last)",
      "Cell \u001b[0;32mIn[3], line 4\u001b[0m\n\u001b[1;32m      3\u001b[0m name \u001b[38;5;241m=\u001b[39m\u001b[38;5;28minput\u001b[39m(\u001b[38;5;124m\"\u001b[39m\u001b[38;5;124m請入你的姓名\u001b[39m\u001b[38;5;124m\"\u001b[39m)\n\u001b[0;32m----> 4\u001b[0m high \u001b[38;5;241m=\u001b[39m \u001b[38;5;28;43mfloat\u001b[39;49m\u001b[43m(\u001b[49m\u001b[38;5;28;43minput\u001b[39;49m\u001b[43m(\u001b[49m\u001b[38;5;124;43m\"\u001b[39;49m\u001b[38;5;124;43m請輸入身高(m)\u001b[39;49m\u001b[38;5;124;43m\"\u001b[39;49m\u001b[43m)\u001b[49m\u001b[43m)\u001b[49m\n\u001b[1;32m      5\u001b[0m weight \u001b[38;5;241m=\u001b[39m \u001b[38;5;28mint\u001b[39m(\u001b[38;5;28minput\u001b[39m(\u001b[38;5;124m\"\u001b[39m\u001b[38;5;124m請輸入你的體重(kg)\u001b[39m\u001b[38;5;124m\"\u001b[39m))\n",
      "\u001b[0;31mValueError\u001b[0m: could not convert string to float: '5a'",
      "\nDuring handling of the above exception, another exception occurred:\n",
      "\u001b[0;31mNameError\u001b[0m                                 Traceback (most recent call last)",
      "Cell \u001b[0;32mIn[3], line 11\u001b[0m\n\u001b[1;32m      9\u001b[0m     bmi \u001b[38;5;241m=\u001b[39m (math\u001b[38;5;241m.\u001b[39mfloor(weight\u001b[38;5;241m/\u001b[39m(high\u001b[38;5;241m*\u001b[39m\u001b[38;5;241m*\u001b[39m\u001b[38;5;241m2\u001b[39m)))\n\u001b[1;32m     10\u001b[0m \u001b[38;5;28;01mexcept\u001b[39;00m:\n\u001b[0;32m---> 11\u001b[0m     \u001b[38;5;28;01mif\u001b[39;00m \u001b[43mbmi\u001b[49m \u001b[38;5;241m<\u001b[39m\u001b[38;5;241m=\u001b[39m \u001b[38;5;241m0\u001b[39m :\n\u001b[1;32m     12\u001b[0m         \u001b[38;5;28mprint\u001b[39m(\u001b[38;5;124m\"\u001b[39m\u001b[38;5;124m輸入格式錯誤\u001b[39m\u001b[38;5;124m\"\u001b[39m)        \n\u001b[1;32m     13\u001b[0m     \u001b[38;5;28mprint\u001b[39m(name,(\u001b[38;5;124m\"\u001b[39m\u001b[38;5;124m你好\u001b[39m\u001b[38;5;124m\"\u001b[39m))\n",
      "\u001b[0;31mNameError\u001b[0m: name 'bmi' is not defined"
     ]
    }
   ],
   "source": [
    "try:\n",
    "    import math\n",
    "    name =input(\"請入你的姓名\")\n",
    "    high = float(input(\"請輸入身高(m)\"))\n",
    "    weight = int(input(\"請輸入你的體重(kg)\"))\n",
    "\n",
    "    \n",
    " \n",
    "    bmi = (math.floor(weight/(high**2)))\n",
    "except:\n",
    "    if bmi <= 0 :\n",
    "        print(\"輸入格式錯誤\")        \n",
    "    print(name,(\"你好\"))\n",
    "    print(\"你的BMI為\",bmi)\n",
    "    if bmi < 18.5:\n",
    "        print(\"體重過輕\")\n",
    "    if bmi >= 18.5 and bmi < 24 :\n",
    "        print(\"正常範圍\")\n",
    "    if bmi >= 24 and bmi < 27 :\n",
    "        print(\"體重過重\")\n",
    "    if bmi >= 27 and bmi < 30 :\n",
    "        print(\"輕度肥胖\")\n",
    "    if bmi >= 30 and bmi <35 :\n",
    "        print(\"中度肥胖\")\n",
    "    else:\n",
    "        print(\"重度肥胖\")\n",
    "else:\n",
    "    print(\"格式錯誤\")\n",
    "\n",
    "\n",
    "\n",
    "\n",
    "\n",
    "\n"
   ]
  },
  {
   "cell_type": "code",
   "execution_count": 23,
   "metadata": {},
   "outputs": [
    {
     "name": "stdout",
     "output_type": "stream",
     "text": [
      "10 你好\n",
      "你的BMI為 31\n",
      "中度肥胖\n"
     ]
    }
   ],
   "source": [
    "try:\n",
    "    import math\n",
    "    name =input(\"請入你的姓名\")\n",
    "    high = float(input(\"請輸入身高(m)\"))\n",
    "    weight = int(input(\"請輸入你的體重(kg)\"))\n",
    "   \n",
    "\n",
    "    bmi = (math.floor(weight/(high**2)))\n",
    "\n",
    " \n",
    "    \n",
    "except:\n",
    "    bmi = (math.floor(weight/(high**2)))\n",
    "if  bmi  <= 0 :\n",
    "    print(\"輸入格式錯誤\")\n",
    "      \n",
    "\n",
    "else:\n",
    "        print(name,(\"你好\"))\n",
    "        print(\"你的BMI為\",bmi)\n",
    "        if bmi < 18.5:\n",
    "            print(\"體重過輕\")\n",
    "        if bmi >= 18.5 and bmi < 24 :\n",
    "            print(\"正常範圍\")\n",
    "        if bmi >= 24 and bmi < 27 :\n",
    "            print(\"體重過重\")\n",
    "        if bmi >= 27 and bmi < 30 :\n",
    "            print(\"輕度肥胖\")\n",
    "        if bmi >= 30 and bmi <35 :\n",
    "            print(\"中度肥胖\")\n",
    "        if bmi >= 35:\n",
    "            print(\"重度肥胖\")\n",
    "        "
   ]
  },
  {
   "cell_type": "code",
   "execution_count": 27,
   "metadata": {},
   "outputs": [
    {
     "name": "stdout",
     "output_type": "stream",
     "text": [
      "輸入格式錯誤\n"
     ]
    }
   ],
   "source": [
    "#最終確定版\n",
    "try:\n",
    "    import math\n",
    "    name =input(\"請入你的姓名\")\n",
    "    high = float(input(\"請輸入身高(m)\"))\n",
    "    weight = int(input(\"請輸入你的體重(kg)\"))\n",
    "   \n",
    "\n",
    "    bmi = (math.floor(weight/(high**2)))\n",
    "\n",
    " \n",
    "    \n",
    "    if  bmi  <= 0 :\n",
    "        print(\"輸入格式錯誤\")\n",
    "      \n",
    "\n",
    "    else:\n",
    "            print(name,(\"你好\"))\n",
    "            print(\"你的BMI為\",bmi)\n",
    "            if bmi < 18.5:\n",
    "                print(\"體重過輕\")\n",
    "            if bmi >= 18.5 and bmi < 24 :\n",
    "                print(\"正常範圍\")\n",
    "            if bmi >= 24 and bmi < 27 :\n",
    "                print(\"體重過重\")\n",
    "            if bmi >= 27 and bmi < 30 :\n",
    "                print(\"輕度肥胖\")\n",
    "            if bmi >= 30 and bmi <35 :\n",
    "                print(\"中度肥胖\")\n",
    "            if bmi >= 35:\n",
    "                print(\"重度肥胖\")\n",
    "except:\n",
    "    print(\"請確保輸入有效數字\")\n",
    "        "
   ]
  },
  {
   "cell_type": "code",
   "execution_count": 16,
   "metadata": {},
   "outputs": [
    {
     "name": "stdout",
     "output_type": "stream",
     "text": [
      "請確保你輸入的是有效的數字\n"
     ]
    }
   ],
   "source": [
    "#GPT答案\n",
    "\n",
    "import math\n",
    "\n",
    "name = input(\"請輸入你的姓名：\")\n",
    "try:\n",
    "    height = float(input(\"請輸入身高（m）：\"))\n",
    "    weight = float(input(\"請輸入你的體重（kg）：\"))\n",
    "    \n",
    "    bmi = weight / (height ** 2)\n",
    "    \n",
    "    if bmi <= 0:\n",
    "        print(\"輸入格式錯誤\")\n",
    "    else:\n",
    "        print(name, \"你好！\")\n",
    "        print(\"你的BMI為\", bmi)\n",
    "        \n",
    "        if bmi < 18.5:\n",
    "            print(\"體重過輕\")\n",
    "        elif 18.5 <= bmi < 24:\n",
    "            print(\"正常範圍\")\n",
    "        elif 24 <= bmi < 27:\n",
    "            print(\"體重過重\")\n",
    "        elif 27 <= bmi < 30:\n",
    "            print(\"輕度肥胖\")\n",
    "        elif 30 <= bmi < 35:\n",
    "            print(\"中度肥胖\")\n",
    "        else:\n",
    "            print(\"重度肥胖\")\n",
    "\n",
    "except ValueError:\n",
    "    print(\"請確保你輸入的是有效的數字\")"
   ]
  },
  {
   "cell_type": "code",
   "execution_count": 14,
   "metadata": {},
   "outputs": [
    {
     "name": "stdout",
     "output_type": "stream",
     "text": [
      "1005 你好\n",
      "你的BMI為 34.602076124567475\n",
      "中度肥胖\n"
     ]
    }
   ],
   "source": [
    "try:\n",
    "    import math\n",
    "    name =input(\"請入你的姓名\")\n",
    "    high = float(input(\"請輸入身高(m)\"))\n",
    "    weight = int(input(\"請輸入你的體重(kg)\"))\n",
    "   \n",
    "\n",
    "    bmi = (weight/(high**2))\n",
    "\n",
    " \n",
    "    \n",
    "except:\n",
    "    bmi = (weight/(high**2))\n",
    "if  bmi  <= 0 :\n",
    "    print(\"輸入格式錯誤\")\n",
    "      \n",
    "\n",
    "else:\n",
    "        print(name,(\"你好\"))\n",
    "        print(\"你的BMI為\",bmi)\n",
    "        if bmi < 18.5:\n",
    "            print(\"體重過輕\")\n",
    "        if bmi >= 18.5 and bmi < 24 :\n",
    "            print(\"正常範圍\")\n",
    "        if bmi >= 24 and bmi < 27 :\n",
    "            print(\"體重過重\")\n",
    "        if bmi >= 27 and bmi < 30 :\n",
    "            print(\"輕度肥胖\")\n",
    "        if bmi >= 30 and bmi <35 :\n",
    "            print(\"中度肥胖\")\n",
    "        if bmi >= 35:\n",
    "            print(\"重度肥胖\")"
   ]
  },
  {
   "cell_type": "code",
   "execution_count": 13,
   "metadata": {},
   "outputs": [
    {
     "name": "stdout",
     "output_type": "stream",
     "text": [
      "您的BMI值為： 30.071168431955627\n",
      "您已經處於中度肥胖狀態，建議尋求醫療建議。\n"
     ]
    }
   ],
   "source": [
    "#GPT用我的版本去修正\n",
    "\n",
    "try:\n",
    "    # 讓使用者輸入身高（公分）和體重（公斤）\n",
    "    height = float(input(\"請輸入身高（公分）：\"))\n",
    "    weight = float(input(\"請輸入體重（公斤）：\"))\n",
    "\n",
    "    # 檢查輸入的身高和體重是否大於0\n",
    "    if height > 0 and weight > 0:\n",
    "        # 計算BMI值\n",
    "        bmi = weight / ((height / 100) ** 2)\n",
    "        \n",
    "        # 顯示BMI值\n",
    "        print(\"您的BMI值為：\", bmi)\n",
    "        \n",
    "        # 根據BMI值顯示相應的健康狀況\n",
    "        if bmi < 18.5:\n",
    "            print(\"您的BMI值過低，請注意增加營養。\")\n",
    "        elif bmi < 24:\n",
    "            print(\"您的BMI值在正常範圍內，繼續保持健康生活方式！\")\n",
    "        elif bmi < 27:\n",
    "            print(\"您的BMI值過高，請注意控制體重。\")\n",
    "        elif bmi < 30:\n",
    "            print(\"您已經處於輕度肥胖狀態，請重視體重管理。\")\n",
    "        elif bmi < 35:\n",
    "            print(\"您已經處於中度肥胖狀態，建議尋求醫療建議。\")\n",
    "        else:\n",
    "            print(\"您已經處於重度肥胖狀態，請儘快尋求專業幫助！\")\n",
    "    else:\n",
    "        print(\"請輸入有效的身高和體重！\")\n",
    "\n",
    "except ValueError:\n",
    "    print(\"請確保您輸入的是有效的數字！\")"
   ]
  },
  {
   "cell_type": "code",
   "execution_count": 7,
   "metadata": {},
   "outputs": [
    {
     "name": "stdout",
     "output_type": "stream",
     "text": [
      "hello1 18years old\n"
     ]
    }
   ],
   "source": [
    "def wu (name,age):\n",
    "    print(\"hello\"+name,age+\"years old\")\n",
    "wu(name=\"1\",age=\"18\")"
   ]
  }
 ],
 "metadata": {
  "kernelspec": {
   "display_name": "Python 3",
   "language": "python",
   "name": "python3"
  },
  "language_info": {
   "codemirror_mode": {
    "name": "ipython",
    "version": 3
   },
   "file_extension": ".py",
   "mimetype": "text/x-python",
   "name": "python",
   "nbconvert_exporter": "python",
   "pygments_lexer": "ipython3",
   "version": "3.10.14"
  }
 },
 "nbformat": 4,
 "nbformat_minor": 2
}
