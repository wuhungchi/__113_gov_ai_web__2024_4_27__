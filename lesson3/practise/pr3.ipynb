{
 "cells": [
  {
   "cell_type": "code",
   "execution_count": 10,
   "metadata": {},
   "outputs": [
    {
     "name": "stdout",
     "output_type": "stream",
     "text": [
      "<__main__.Person object at 0x7cbccd248d30>\n"
     ]
    }
   ],
   "source": [
    "\n",
    "class Person():\n",
    "    def __init__(self,name,height,weight) -> None:\n",
    "        self.__name = name\n",
    "        self.__height =height\n",
    "        self.__weight = weight\n",
    "    def __repr__(self) -> str:\n",
    "        return f\"{self.__name},{self.__height},{self.__weight}\"\n",
    "\n",
    "\n",
    "        @property\n",
    "        def nam(self):\n",
    "               return self.__name\n",
    "                        \n",
    "    \n",
    "        if bmi < 18.5:\n",
    "                print(\"體重過輕\")\n",
    "        if bmi >= 18.5 and bmi < 24 :\n",
    "                print(\"正常範圍\")\n",
    "        if bmi >= 24 and bmi < 27 :\n",
    "                print(\"體重過重\")\n",
    "        if bmi >= 27 and bmi < 30 :\n",
    "                print(\"輕度肥胖\")\n",
    "        if bmi >= 30 and bmi <35 :\n",
    "                print(\"中度肥胖\")\n",
    "        if bmi >= 35:\n",
    "                print(\"重度肥胖\")\n",
    "    \n",
    "    \n",
    "bmi = Person(input(\"請輸入姓名\"),input(\"請輸入身高\"),input(\"請輸入體重\"))\n",
    "print(bmi)\n",
    "\n",
    "\n",
    "        \n",
    "\n",
    "    \n",
    "\n"
   ]
  }
 ],
 "metadata": {
  "kernelspec": {
   "display_name": "Python 3",
   "language": "python",
   "name": "python3"
  },
  "language_info": {
   "codemirror_mode": {
    "name": "ipython",
    "version": 3
   },
   "file_extension": ".py",
   "mimetype": "text/x-python",
   "name": "python",
   "nbconvert_exporter": "python",
   "pygments_lexer": "ipython3",
   "version": "3.10.14"
  }
 },
 "nbformat": 4,
 "nbformat_minor": 2
}
