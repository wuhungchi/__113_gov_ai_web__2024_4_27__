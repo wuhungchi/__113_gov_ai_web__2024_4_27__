{
 "cells": [
  {
   "cell_type": "code",
   "execution_count": 23,
   "metadata": {},
   "outputs": [
    {
     "name": "stdout",
     "output_type": "stream",
     "text": [
      "orange\n",
      "apple\n",
      "pear\n",
      "banana\n",
      "apple\n",
      "banana\n"
     ]
    }
   ],
   "source": [
    "fruits:list[str] = ['orange', 'apple', 'pear', 'banana', 'kiwi', 'apple', 'banana']\n",
    "for h in fruits:\n",
    "    if \"a\" in h :\n",
    "        print(h)"
   ]
  },
  {
   "cell_type": "code",
   "execution_count": 10,
   "metadata": {},
   "outputs": [
    {
     "name": "stdout",
     "output_type": "stream",
     "text": [
      "0 1 2 3 4 \n",
      "1.2.3.4.5.6.7.8.9.\n",
      "1~4~7~"
     ]
    }
   ],
   "source": [
    "for i in range(5) :\n",
    "    print(i,end=\" \")\n",
    "print()\n",
    "for i in range(1,10):\n",
    "    print(i,end=\".\")\n",
    "print()\n",
    "for i in range(1,10,3) :\n",
    "    print(i,end=\"~\")"
   ]
  }
 ],
 "metadata": {
  "kernelspec": {
   "display_name": "Python 3",
   "language": "python",
   "name": "python3"
  },
  "language_info": {
   "codemirror_mode": {
    "name": "ipython",
    "version": 3
   },
   "file_extension": ".py",
   "mimetype": "text/x-python",
   "name": "python",
   "nbconvert_exporter": "python",
   "pygments_lexer": "ipython3",
   "version": "3.10.14"
  }
 },
 "nbformat": 4,
 "nbformat_minor": 2
}
