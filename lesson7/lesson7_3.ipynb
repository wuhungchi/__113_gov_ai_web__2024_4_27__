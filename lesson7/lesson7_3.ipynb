{
 "cells": [
  {
   "cell_type": "code",
   "execution_count": 2,
   "metadata": {},
   "outputs": [
    {
     "name": "stdout",
     "output_type": "stream",
     "text": [
      "巫\n",
      "wu\n"
     ]
    }
   ],
   "source": [
    "class Person():\n",
    "    def __init__(self,n): #自訂初始化\n",
    "        self.name =n#建立atribute\n",
    "    def __repr__(self) -> str:\n",
    "        return\"我是person實體\"\n",
    "p1 = Person(\"巫\")\n",
    "print(p1.name)\n",
    "\n",
    "p2 = Person(\"wu\")\n",
    "print(p2.name)\n",
    "\n"
   ]
  },
  {
   "cell_type": "code",
   "execution_count": 3,
   "metadata": {},
   "outputs": [
    {
     "name": "stdout",
     "output_type": "stream",
     "text": [
      "我是person實體\n"
     ]
    }
   ],
   "source": [
    "print(p1)"
   ]
  }
 ],
 "metadata": {
  "kernelspec": {
   "display_name": "Python 3",
   "language": "python",
   "name": "python3"
  },
  "language_info": {
   "codemirror_mode": {
    "name": "ipython",
    "version": 3
   },
   "file_extension": ".py",
   "mimetype": "text/x-python",
   "name": "python",
   "nbconvert_exporter": "python",
   "pygments_lexer": "ipython3",
   "version": "3.10.14"
  }
 },
 "nbformat": 4,
 "nbformat_minor": 2
}
