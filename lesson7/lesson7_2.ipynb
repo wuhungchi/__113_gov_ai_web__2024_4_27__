{
 "cells": [
  {
   "cell_type": "code",
   "execution_count": null,
   "metadata": {},
   "outputs": [],
   "source": [
    "fruits:tuple[str] = ('orange', 'apple', 'pear', 'banana', 'kiwi', 'apple', 'banana')\n",
    "#tuple只是暫時打包不是資料結構\n",
    "#tuple甚至不用小括號,可以只用逗號區隔資料"
   ]
  },
  {
   "cell_type": "code",
   "execution_count": 3,
   "metadata": {},
   "outputs": [
    {
     "name": "stdout",
     "output_type": "stream",
     "text": [
      "orange\n",
      "apple\n",
      "pear\n",
      "banana\n",
      "kiwi\n",
      "apple\n",
      "banana\n"
     ]
    }
   ],
   "source": [
    "fruits:tuple[str] =('orange', 'apple', 'pear', 'banana', 'kiwi', 'apple', 'banana')\n",
    "for f in fruits:\n",
    "    print(f)"
   ]
  },
  {
   "cell_type": "code",
   "execution_count": 4,
   "metadata": {},
   "outputs": [
    {
     "name": "stdout",
     "output_type": "stream",
     "text": [
      "tw ['tw']\n",
      "jp ['tw']\n"
     ]
    }
   ],
   "source": [
    "codes:dict[str,str] = {'tw':'Taiwan','jp':'Japan'}\n",
    "#dict字典其結構大括號包著key,value\n",
    "#用[key]去找value\n",
    "#key要用中括號\n",
    "\n",
    "for f in codes:\n",
    "    print(f,[\"tw\"])"
   ]
  },
  {
   "cell_type": "code",
   "execution_count": 5,
   "metadata": {},
   "outputs": [
    {
     "data": {
      "text/plain": [
       "{1, 2, 3}"
      ]
     },
     "execution_count": 5,
     "metadata": {},
     "output_type": "execute_result"
    }
   ],
   "source": [
    "#set為自動把重複的串列只呈現一個\n",
    "#用法為大括號\n",
    "{1,1,2,2,3,3}"
   ]
  }
 ],
 "metadata": {
  "kernelspec": {
   "display_name": "Python 3",
   "language": "python",
   "name": "python3"
  },
  "language_info": {
   "codemirror_mode": {
    "name": "ipython",
    "version": 3
   },
   "file_extension": ".py",
   "mimetype": "text/x-python",
   "name": "python",
   "nbconvert_exporter": "python",
   "pygments_lexer": "ipython3",
   "version": "3.10.14"
  }
 },
 "nbformat": 4,
 "nbformat_minor": 2
}
