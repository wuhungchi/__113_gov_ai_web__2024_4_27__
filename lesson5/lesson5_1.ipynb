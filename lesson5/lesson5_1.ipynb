{
 "cells": [
  {
   "cell_type": "code",
   "execution_count": 2,
   "metadata": {},
   "outputs": [
    {
     "data": {
      "text/plain": [
       "'巫'"
      ]
     },
     "metadata": {},
     "output_type": "display_data"
    }
   ],
   "source": [
    "display(input(\"請輸入你的姓名:\"))"
   ]
  },
  {
   "cell_type": "code",
   "execution_count": 5,
   "metadata": {},
   "outputs": [
    {
     "name": "stdout",
     "output_type": "stream",
     "text": [
      "wu hung chi\n"
     ]
    }
   ],
   "source": [
    "print(input(\"請輸入你的姓名:\"))"
   ]
  },
  {
   "cell_type": "code",
   "execution_count": 1,
   "metadata": {},
   "outputs": [
    {
     "data": {
      "text/plain": [
       "True"
      ]
     },
     "execution_count": 1,
     "metadata": {},
     "output_type": "execute_result"
    }
   ],
   "source": [
    "5 == 5"
   ]
  },
  {
   "cell_type": "code",
   "execution_count": 2,
   "metadata": {},
   "outputs": [
    {
     "data": {
      "text/plain": [
       "False"
      ]
     },
     "execution_count": 2,
     "metadata": {},
     "output_type": "execute_result"
    }
   ],
   "source": [
    "5!=5"
   ]
  },
  {
   "cell_type": "code",
   "execution_count": 3,
   "metadata": {},
   "outputs": [
    {
     "data": {
      "text/plain": [
       "True"
      ]
     },
     "execution_count": 3,
     "metadata": {},
     "output_type": "execute_result"
    }
   ],
   "source": [
    "5>=5"
   ]
  },
  {
   "cell_type": "code",
   "execution_count": 11,
   "metadata": {},
   "outputs": [
    {
     "name": "stdout",
     "output_type": "stream",
     "text": [
      "不能投票\n",
      "不能喝酒\n",
      "應用程式結束\n"
     ]
    }
   ],
   "source": [
    "age=int(input(\"請輸入年齡:\"))\n",
    "if age>= 18:\n",
    "    print(\"可以投票\")\n",
    "    print(\"可以喝酒\")\n",
    "else:\n",
    "    print(\"不能投票\")\n",
    "    print(\"不能喝酒\")\n",
    "print(\"應用程式結束\")"
   ]
  },
  {
   "cell_type": "code",
   "execution_count": 14,
   "metadata": {},
   "outputs": [
    {
     "name": "stdout",
     "output_type": "stream",
     "text": [
      "目前分數 105\n"
     ]
    }
   ],
   "source": [
    "score = int(input(\"考試分數:\"))\n",
    "is_add =input(\"是否符合加分標準?(y,n)\")\n",
    "if is_add ==\"y\":\n",
    "    score *= 1.05\n",
    "print(\"目前分數\",round(score))"
   ]
  },
  {
   "cell_type": "code",
   "execution_count": null,
   "metadata": {},
   "outputs": [],
   "source": []
  },
  {
   "cell_type": "code",
   "execution_count": 16,
   "metadata": {},
   "outputs": [
    {
     "name": "stdout",
     "output_type": "stream",
     "text": [
      "目前分數 300\n"
     ]
    }
   ],
   "source": [
    "score = int(input(\"考試分數:\"))\n",
    "is_add =input(\"是否符合加分標準?(y,n)\")\n",
    "if is_add ==\"y\":\n",
    "    score *= 1.05\n",
    "    if score>300:\n",
    "        score=300\n",
    "print(\"目前分數\",round(score))"
   ]
  },
  {
   "cell_type": "code",
   "execution_count": 17,
   "metadata": {},
   "outputs": [
    {
     "name": "stdout",
     "output_type": "stream",
     "text": [
      "目前分數 100\n"
     ]
    }
   ],
   "source": [
    "score = int(input(\"考試分數:\"))\n",
    "is_add =input(\"是否符合加分標準?(y,n)\")\n",
    "if is_add ==\"y\":\n",
    "    score *= 1.05\n",
    "else:\n",
    "    is_add ==\"n\"\n",
    "\n",
    "print(\"目前分數\",round(score))"
   ]
  },
  {
   "cell_type": "code",
   "execution_count": 21,
   "metadata": {},
   "outputs": [
    {
     "name": "stdout",
     "output_type": "stream",
     "text": [
      "目前分數 262\n"
     ]
    }
   ],
   "source": [
    "score = int(input(\"考試分數:\"))\n",
    "if score<=300:\n",
    "    is_add =input(\"是否符合加分標準?(y,n)\")\n",
    "    if is_add ==\"y\":\n",
    "        score *= 1.05\n",
    "    print(\"目前分數\",round(score))\n",
    "else:\n",
    "    print(\"成績不咧入計算\")"
   ]
  },
  {
   "cell_type": "code",
   "execution_count": 25,
   "metadata": {},
   "outputs": [
    {
     "name": "stdout",
     "output_type": "stream",
     "text": [
      "格式錯誤\n",
      "應用程式結束\n"
     ]
    }
   ],
   "source": [
    "try:\n",
    "    score = int(input(\"考試分數:\"))\n",
    "except:\n",
    "    print(\"格式錯誤\")\n",
    "else:\n",
    "    is_add =input(\"是否符合加分標準?(y,n)\")\n",
    "    if is_add ==\"y\":\n",
    "        score *= 1.05\n",
    "    print(\"目前分數\",round(score))\n",
    "print(\"應用程式結束\")"
   ]
  },
  {
   "cell_type": "code",
   "execution_count": 27,
   "metadata": {},
   "outputs": [
    {
     "name": "stdout",
     "output_type": "stream",
     "text": [
      "分數大於等於40\n"
     ]
    }
   ],
   "source": [
    "score = 45\n",
    "if score>=40:\n",
    "    print(\"分數大於等於40\")\n",
    "if score<20:\n",
    "    print(\"分數小於20\")"
   ]
  },
  {
   "cell_type": "code",
   "execution_count": null,
   "metadata": {},
   "outputs": [
    {
     "name": "stdout",
     "output_type": "stream",
     "text": [
      "目前分數 105\n"
     ]
    }
   ],
   "source": [
    "score = int(input(\"考試分數:\"))\n",
    "is_add =input(\"是否符合加分標準?(y,n)\")\n",
    "if is_add ==\"y\":\n",
    "    score *= 1.05\n",
    "print(\"目前分數\",round(score))"
   ]
  }
 ],
 "metadata": {
  "kernelspec": {
   "display_name": "Python 3",
   "language": "python",
   "name": "python3"
  },
  "language_info": {
   "codemirror_mode": {
    "name": "ipython",
    "version": 3
   },
   "file_extension": ".py",
   "mimetype": "text/x-python",
   "name": "python",
   "nbconvert_exporter": "python",
   "pygments_lexer": "ipython3",
   "version": "3.10.14"
  }
 },
 "nbformat": 4,
 "nbformat_minor": 2
}
