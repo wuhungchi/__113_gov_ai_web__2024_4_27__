{
 "cells": [
  {
   "cell_type": "code",
   "execution_count": 1,
   "metadata": {},
   "outputs": [],
   "source": [
    "class Person():\n",
    "    def __init__(self,n) -> None:\n",
    "        self.name = n\n",
    "    def __repr__(self) -> str:\n",
    "        return f\"這是Person的實體,名字是{self.name}\""
   ]
  },
  {
   "cell_type": "code",
   "execution_count": 4,
   "metadata": {},
   "outputs": [
    {
     "name": "stdout",
     "output_type": "stream",
     "text": [
      "\n",
      "這是Person的實體,名字是巫\n"
     ]
    }
   ],
   "source": [
    "p1 = Person (\"巫\")\n",
    "print(p1.name)\n",
    "print(p1)"
   ]
  },
  {
   "cell_type": "code",
   "execution_count": 41,
   "metadata": {},
   "outputs": [
    {
     "name": "stdout",
     "output_type": "stream",
     "text": [
      "巫\n",
      "這是Student的實體\n",
      "我的姓名是巫\n",
      "國文:100\n",
      "英文:99\n",
      "數學:98\n",
      "\n",
      "總分是297\n",
      "<bound method Student.average of 這是Student的實體\n",
      "我的姓名是巫\n",
      "國文:100\n",
      "英文:99\n",
      "數學:98\n",
      ">\n"
     ]
    }
   ],
   "source": [
    "#字串變數整合,傳出全新字串-->字串插補\n",
    "class Person():\n",
    "    def __init__(self,n) -> None:\n",
    "        self.name = n\n",
    "    def __repr__(self) -> str:\n",
    "        return f\"這是Person的實體,名字是{self.name}\"#字串插補\n",
    "    \n",
    "class Student(Person):\n",
    "    def __init__(self,name:str,score:int) -> None:\n",
    "        super().__init__(name)#繼承父類的必要函式\n",
    "        self.score = score\n",
    "    def __repr__(self) -> str:\n",
    "        return f\"這是Student的實體,名字是{self.name}分數是{self.score}\"#字串插補\n",
    "class Student(Person):\n",
    "    def __init__(self,name:str,chinese:int,english:int,math:int) -> None:\n",
    "        super().__init__(name)#繼承父類的必要函式\n",
    "        self.chinese = chinese\n",
    "        self.english = english\n",
    "        self.math = math\n",
    "    def __repr__(self) -> str:\n",
    "        message = \"\"\n",
    "        message +=\"這是Student的實體\\n\"\n",
    "        message +=f\"我的姓名是{self.name}\\n\"\n",
    "        message +=f\"國文:{self.chinese}\\n\"\n",
    "        message +=f\"英文:{self.english}\\n\"\n",
    "        message +=f\"數學:{self.math}\\n\"\n",
    "        return message\n",
    "    \n",
    "class Student(Person):\n",
    "    def __init__(self,name:str,chinese:int,english:int,math:int) -> None:\n",
    "        super().__init__(name)#繼承父類的必要函式\n",
    "        self.__chinese = chinese\n",
    "        self.__english = english\n",
    "        self.__math = math\n",
    "\n",
    "    @property  #@property為變數安裝不可隨意更動的性質\n",
    "    def chinese(self):\n",
    "        return self.__chinese\n",
    "    @property\n",
    "    def english(self):\n",
    "        return self.__english\n",
    "    @property\n",
    "    def math(self):\n",
    "        return self.__math\n",
    "    \n",
    "    def __repr__(self) -> str:\n",
    "        message = \"\"\n",
    "        message +=\"這是Student的實體\\n\"\n",
    "        message +=f\"我的姓名是{self.name}\\n\"\n",
    "        message +=f\"國文:{self.chinese}\\n\"\n",
    "        message +=f\"英文:{self.english}\\n\"\n",
    "        message +=f\"數學:{self.math}\\n\"\n",
    "        return message\n",
    "    def sum(self) ->int:#實體的method\n",
    "        return self.chinese + self.english +self.math\n",
    "    def average(self)->float:\n",
    "        return self.sum() /3\n",
    "s1 =Student(\"巫\",100,99,98)\n",
    "print(s1.name)\n",
    "print(s1)\n",
    "print(f\"總分是{s1.sum()}\")\n",
    "print(s1.average)\n",
    "#s1.chinese = 99"
   ]
  }
 ],
 "metadata": {
  "kernelspec": {
   "display_name": "Python 3",
   "language": "python",
   "name": "python3"
  },
  "language_info": {
   "codemirror_mode": {
    "name": "ipython",
    "version": 3
   },
   "file_extension": ".py",
   "mimetype": "text/x-python",
   "name": "python",
   "nbconvert_exporter": "python",
   "pygments_lexer": "ipython3",
   "version": "3.10.14"
  }
 },
 "nbformat": 4,
 "nbformat_minor": 2
}
